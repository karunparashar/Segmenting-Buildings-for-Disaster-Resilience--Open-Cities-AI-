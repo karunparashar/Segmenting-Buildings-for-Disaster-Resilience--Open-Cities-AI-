{
 "cells": [
  {
   "cell_type": "markdown",
   "metadata": {},
   "source": [
    "### If you have all the dataset in one folder, use this script to split into train and test\n",
    "eg: if you have folder structure like so:\n",
    "\n",
    "data\n",
    "    - images-64\n",
    "        - img1.png\n",
    "        - img2.png\n",
    "        - ...\n",
    "    - masks-64\n",
    "        - mask1.png\n",
    "        - mask2.png\n",
    "        - ...\n",
    "__________________________\n",
    "\n",
    "Convert to the following structure\n",
    "\n",
    "data\n",
    "    - images-64\n",
    "        - train\n",
    "            - img1.png\n",
    "            - img2.png\n",
    "        - test\n",
    "            - img2.png\n",
    "            - img4.png\n",
    "    - masks-64\n",
    "        - train\n",
    "            - msk1.png\n",
    "            - msk2.png\n",
    "        - test\n",
    "            - msk3.png\n",
    "            - msk4.png"
   ]
  },
  {
   "cell_type": "code",
   "execution_count": 3,
   "metadata": {},
   "outputs": [],
   "source": [
    "import os\n",
    "import tensorflow as tf\n",
    "from tqdm import tqdm\n",
    "import pandas as pd\n",
    "import skimage\n",
    "from skimage.io import imread,imshow, imsave\n",
    "from skimage.transform import resize\n",
    "import matplotlib.pyplot as plt\n",
    "import sys\n",
    "import math\n",
    "from sklearn.model_selection import train_test_split"
   ]
  },
  {
   "cell_type": "code",
   "execution_count": 4,
   "metadata": {},
   "outputs": [],
   "source": [
    "dimension = 512"
   ]
  },
  {
   "cell_type": "code",
   "execution_count": 5,
   "metadata": {},
   "outputs": [],
   "source": [
    "# 80-20 division in favour of train data will be done"
   ]
  },
  {
   "cell_type": "code",
   "execution_count": 6,
   "metadata": {},
   "outputs": [],
   "source": [
    "DATA_FOLDER = '../data/'\n",
    "IMAGE_PATH = os.path.join(DATA_FOLDER, \"images-\"+str(dimension))\n",
    "MASK_PATH = os.path.join(DATA_FOLDER, \"masks-\"+str(dimension))\n",
    "\n",
    "IMAGE_TRAIN_PATH = os.path.join(IMAGE_PATH, \"train\")\n",
    "IMAGE_TEST_PATH = os.path.join(IMAGE_PATH, \"test\")\n",
    "\n",
    "MASK_TRAIN_PATH = os.path.join(MASK_PATH, \"train\")\n",
    "MASK_TEST_PATH = os.path.join(MASK_PATH, \"test\")"
   ]
  },
  {
   "cell_type": "code",
   "execution_count": 7,
   "metadata": {},
   "outputs": [],
   "source": [
    "image_names = os.listdir(IMAGE_PATH)"
   ]
  },
  {
   "cell_type": "code",
   "execution_count": 8,
   "metadata": {},
   "outputs": [],
   "source": [
    "os.mkdir(IMAGE_TRAIN_PATH)\n",
    "os.mkdir(IMAGE_TEST_PATH)\n",
    "os.mkdir(MASK_TRAIN_PATH)\n",
    "os.mkdir(MASK_TEST_PATH)"
   ]
  },
  {
   "cell_type": "code",
   "execution_count": 9,
   "metadata": {},
   "outputs": [],
   "source": [
    "train_size = math.floor(len(image_names) * 70 / 100)\n",
    "test_size = math.ceil(len(image_names) * 30 / 100)"
   ]
  },
  {
   "cell_type": "code",
   "execution_count": 10,
   "metadata": {},
   "outputs": [],
   "source": [
    "i = 0\n",
    "for image_name in image_names:\n",
    "    old_image_path = os.path.join(IMAGE_PATH, image_name)\n",
    "    old_mask_path = os.path.join(MASK_PATH, image_name[:-4]+\"_mask.png\")\n",
    "    if i < train_size:\n",
    "        new_image_path = os.path.join(IMAGE_TRAIN_PATH, image_name)\n",
    "        new_mask_path = os.path.join(MASK_TRAIN_PATH, image_name[:-4]+\"_mask.png\")\n",
    "    else:\n",
    "        new_image_path = os.path.join(IMAGE_TEST_PATH, image_name)\n",
    "        new_mask_path = os.path.join(MASK_TEST_PATH, image_name[:-4]+\"_mask.png\")\n",
    "       \n",
    "    os.rename(old_image_path, new_image_path)\n",
    "    os.rename(old_mask_path, new_mask_path)\n",
    "    \n",
    "    i += 1"
   ]
  },
  {
   "cell_type": "code",
   "execution_count": null,
   "metadata": {},
   "outputs": [],
   "source": []
  }
 ],
 "metadata": {
  "kernelspec": {
   "display_name": "Python 3",
   "language": "python",
   "name": "python3"
  },
  "language_info": {
   "codemirror_mode": {
    "name": "ipython",
    "version": 3
   },
   "file_extension": ".py",
   "mimetype": "text/x-python",
   "name": "python",
   "nbconvert_exporter": "python",
   "pygments_lexer": "ipython3",
   "version": "3.6.9"
  }
 },
 "nbformat": 4,
 "nbformat_minor": 4
}
